{
 "cells": [
  {
   "cell_type": "markdown",
   "metadata": {
    "collapsed": true,
    "jupyter": {
     "outputs_hidden": true
    },
    "pycharm": {
     "name": "#%% md\n"
    }
   },
   "source": [
    "# Tutorial: Reachable Set Computation\n",
    "\n",
    "This tutorial demonstrates how to use CommonRoad-Reach to compute the reachable sets of a considered ego vehicle given a CommonRoad scenario.\n",
    "\n",
    "Please make sure that you have correctly installed the package and have gone through the tutorials for **CommonRoad Input-Output** beforehand."
   ]
  },
  {
   "cell_type": "markdown",
   "metadata": {
    "collapsed": false,
    "jupyter": {
     "outputs_hidden": false
    }
   },
   "source": [
    "## Building Configuration"
   ]
  },
  {
   "cell_type": "markdown",
   "metadata": {
    "pycharm": {
     "name": "#%% md\n"
    }
   },
   "source": [
    "Computing the reachable sets requires a configuration that hold essential parameters of the ego vehicle. The configuration is often built from default parameters (located in `./configurations/defaults/`) and scenario-specific parameters. If you wish you overwrite a parameter for a specific scenario, simply create a `.yaml` file with the name of the scenario under `./configurations/` and store the parameter in it. In the following, we explain some of the important parameters in the configuration file.\n",
    "\n",
    "* `planning.steps_computation`: Number of time steps for which the reachable set should be computed.\n",
    "* `planning.coordinate_system`: Coordinate system in which the reachable set should be computed. Computations within the global Cartesian (\"CART\") and local curvilinear (\"CVLN\") coordinate systems are supported.\n",
    "* `planning.reference_point`: Reference point of computation on the vehicle. This can either be set on the center (\"CENTER\") or on the rear axle (\"REAR\") of the vehicle. This affects the results of collision checks with surrounding obstacles.\n",
    "* `vehicle.ego`: Ego-vehicle-specific paramters. Values set to `!!null` will be loaded from vehicle parameters (see [Vehicle Models](https://gitlab.lrz.de/tum-cps/commonroad-vehicle-models/-/blob/master/vehicleModels_commonRoad.pdf), p24) based on the specified vehicle type id. Note that the parameters loaded from the vehicle models are vehicle-centric, and one often requires different velocity and acceleration profiles for computation within the Cartesian coordinate system.\n",
    "* `reachable_set.mode_computation`: Parameter indicating the mode for reachable set computation. Computations with Python backend, C++ backend, and graph-based propagation (both offline and online) are supported.\n",
    "* `reachable_set.mode_repartition`: Parameter indicating the mode for drivable area repartition.\n",
    "* `reachable_set.mode_inflation`: Parameter indicating the mode inflating the shape of the ego vehicle.\n",
    "* `reachable_set.size_grid`: Grid size for discretizing drivable area.\n",
    "* `reachable_set.radius_terminal_split`: Threshold for terminating the split of drivable areas in collision checks.\n",
    "\n",
    "We proceed with building the configuration for an example scenario."
   ]
  },
  {
   "cell_type": "code",
   "execution_count": null,
   "metadata": {
    "ExecuteTime": {
     "end_time": "2023-09-20T14:47:49.177333980Z",
     "start_time": "2023-09-20T14:47:48.171857619Z"
    },
    "pycharm": {
     "name": "#%%\n"
    }
   },
   "outputs": [],
   "source": [
    "%matplotlib inline\n",
    "%load_ext autoreload\n",
    "%autoreload 2\n",
    "\n",
    "import commonroad_reach.utility.logger as util_logger\n",
    "from commonroad_reach.data_structure.configuration_builder import ConfigurationBuilder\n",
    "from commonroad_reach.data_structure.reach.reach_interface import ReachableSetInterface\n",
    "from commonroad_reach.utility import visualization as util_visual\n",
    "\n",
    "# ==== specify scenario\n",
    "name_scenario = \"ARG_Carcarana-1_1_T-1\"\n",
    "\n",
    "# ==== build configuration\n",
    "config = ConfigurationBuilder(path_root=\"..\").build_configuration(name_scenario)\n",
    "config.update()\n",
    "logger = util_logger.initialize_logger(config)\n",
    "config.print_configuration_summary()"
   ]
  },
  {
   "cell_type": "markdown",
   "metadata": {
    "pycharm": {
     "name": "#%% md\n"
    }
   },
   "source": [
    "## Executing Computation & Visualization"
   ]
  },
  {
   "cell_type": "markdown",
   "metadata": {
    "pycharm": {
     "name": "#%% md\n"
    }
   },
   "source": [
    "Invoking reachable set computation is done via the `ReachableSetInterface` class."
   ]
  },
  {
   "cell_type": "code",
   "execution_count": null,
   "metadata": {
    "ExecuteTime": {
     "end_time": "2023-09-20T14:47:49.389788865Z",
     "start_time": "2023-09-20T14:47:49.176956940Z"
    },
    "pycharm": {
     "name": "#%%\n"
    }
   },
   "outputs": [],
   "source": [
    "# ==== compute reachable sets using reachability interface\n",
    "reach_interface = ReachableSetInterface(config)\n",
    "reach_interface.compute_reachable_sets()"
   ]
  },
  {
   "cell_type": "code",
   "execution_count": null,
   "metadata": {
    "ExecuteTime": {
     "end_time": "2023-09-20T14:47:52.398413515Z",
     "start_time": "2023-09-20T14:47:49.390419902Z"
    },
    "pycharm": {
     "name": "#%%\n"
    }
   },
   "outputs": [],
   "source": [
    "# ==== plot computation results and save as gifs\n",
    "util_visual.plot_scenario_with_reachable_sets(reach_interface, figsize=(7, 7))"
   ]
  },
  {
   "cell_type": "code",
   "execution_count": null,
   "metadata": {
    "ExecuteTime": {
     "end_time": "2023-09-20T14:47:52.783386667Z",
     "start_time": "2023-09-20T14:47:52.399778831Z"
    },
    "pycharm": {
     "name": "#%%\n"
    }
   },
   "outputs": [],
   "source": [
    "# ==== visualize reachable sets at specified steps\n",
    "config.debug.save_plots = 0\n",
    "util_visual.plot_scenario_with_reachable_sets(reach_interface, steps=[0, 10, 20, 30], figsize=(7, 7))"
   ]
  },
  {
   "cell_type": "code",
   "execution_count": null,
   "metadata": {
    "ExecuteTime": {
     "end_time": "2023-09-20T14:47:52.928357566Z",
     "start_time": "2023-09-20T14:47:52.769597397Z"
    },
    "pycharm": {
     "name": "#%%\n"
    }
   },
   "outputs": [],
   "source": [
    "# update configuration to compute in the Cartesian coordinate system\n",
    "config.planning.coordinate_system = \"CART\"\n",
    "config.update()\n",
    "config.print_configuration_summary()"
   ]
  },
  {
   "cell_type": "code",
   "execution_count": null,
   "metadata": {
    "ExecuteTime": {
     "end_time": "2023-09-20T14:47:54.127709190Z",
     "start_time": "2023-09-20T14:47:52.928190664Z"
    },
    "pycharm": {
     "name": "#%%\n"
    }
   },
   "outputs": [],
   "source": [
    "# ==== reset config and recompute reachable sets\n",
    "reach_interface.reset(config)\n",
    "reach_interface.compute_reachable_sets()"
   ]
  },
  {
   "cell_type": "code",
   "execution_count": null,
   "metadata": {
    "ExecuteTime": {
     "end_time": "2023-09-20T14:47:54.510740923Z",
     "start_time": "2023-09-20T14:47:54.127262196Z"
    },
    "pycharm": {
     "name": "#%%\n"
    }
   },
   "outputs": [],
   "source": [
    "# ==== visualize reachable sets at specified steps\n",
    "config.debug.save_plots = 0\n",
    "util_visual.plot_scenario_with_reachable_sets(reach_interface, steps=[0, 10, 20, 30], figsize=(7, 7))"
   ]
  }
 ],
 "metadata": {
  "kernelspec": {
   "display_name": "Python 3 (ipykernel)",
   "language": "python",
   "name": "python3"
  },
  "language_info": {
   "codemirror_mode": {
    "name": "ipython",
    "version": 3
   },
   "file_extension": ".py",
   "mimetype": "text/x-python",
   "name": "python",
   "nbconvert_exporter": "python",
   "pygments_lexer": "ipython3",
   "version": "3.11.11"
  }
 },
 "nbformat": 4,
 "nbformat_minor": 4
}
