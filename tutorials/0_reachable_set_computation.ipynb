{
 "cells": [
  {
   "cell_type": "markdown",
   "metadata": {
    "collapsed": true,
    "pycharm": {
     "name": "#%% md\n"
    }
   },
   "source": [
    "# Tutorial 1: Reachable Set Computation\n",
    "\n",
    "This tutorial demonstrates how the CommonRoad Reach package can be used to compute the reachable sets of a considered ego vehicle given a CommonRoad scenario.\n",
    "\n",
    "Please make sure you have correctly installed the package and gone through the tutorials for **CommonRoad Input-Output** beforehand."
   ]
  },
  {
   "cell_type": "markdown",
   "metadata": {
    "pycharm": {
     "name": "#%% md\n"
    }
   },
   "source": [
    "## Building Configuration"
   ]
  },
  {
   "cell_type": "markdown",
   "metadata": {},
   "source": [
    "Computing the reachable sets is as easy as building a configuration file and executing the computation. In the following, we explain some of the important parameters in the configuration file.\n",
    "\n",
    "* `planning.time_steps_computation`: Number of time steps for which the reachable set should be computed.\n",
    "* `planning.coordinate_system`: Coordinate system in which teh reachable set should be computed. Computations in the Cartesian (\"CART\") or curvilinear (\"CVLN\") coordinate systems are supported.\n",
    "* `planning.reference_point`: Reference point on the vehicle. This can either be set on the center (\"CENTER\") or on the rear axle (\"REAR\") of the vehicle. This affects the results of collision checking with surrounding obstacles.\n",
    "* `vehicle.ego`: Ego vehicle-specific paramters. Note that the velocity and acceleration profiles are typically set differently for computations in the Cartesian and curvilinear coordinate systems.\n",
    "* `reachable_set.mode_computation`: Parameter indicating the mode for reachable set computation. Computations with Python backend, C++ backend, and graph-based propagation (both offline and online) are supported.\n",
    "* `reachable_set.mode_repartition`: Parameter indicating the mode for drivable area repartition.\n",
    "* `reachable_set.size_grid`: Grid size for discretizing drivable area.\n",
    "* `reachable_set.radius_terminal_split`: Threshold for terminating the split of drivable areas in collision checks.\n",
    "\n",
    "The configuration is often built from default parameters (located in `./configurations/defaults/`) and scenario-specific parameters. If you wish you override a parameter for a specific scenario, simply create a `.yaml` file with the name of the scenario under `./configurations/` and set the parameter in it.\n",
    "\n",
    "We proceed with building the configuration for an example scenario."
   ]
  },
  {
   "cell_type": "code",
   "execution_count": 8,
   "metadata": {},
   "outputs": [
    {
     "name": "stdout",
     "output_type": "stream",
     "text": [
      "# ===== Configuration Summary ===== #\n",
      "# ARG_Carcarana-1_1_T-1\n",
      "# Planning:\n",
      "# \ttime steps: 30, coordinate system: curvilinear\n",
      "# Reachable set:\n",
      "# \tcomputation mode: polytopic, v++ backend | repartition mode: collision check, repartition\n",
      "# \tgrid size: 0.2, terminal split radius: 0.7\n",
      "# \tprune: True\n",
      "# ================================= #\n"
     ]
    }
   ],
   "source": [
    "%matplotlib inline\n",
    "%load_ext autoreload\n",
    "%autoreload 2\n",
    "# add root folder to Python interpreter's path\n",
    "import os\n",
    "import sys\n",
    "sys.path.append(\"../\")\n",
    "\n",
    "import commonroad_reach.utility.logger as util_logger\n",
    "from commonroad_reach.data_structure.configuration_builder import ConfigurationBuilder\n",
    "from commonroad_reach.data_structure.reach.reach_interface import ReachableSetInterface\n",
    "from commonroad_reach.utility import visualization as util_visual\n",
    "\n",
    "# ==== specify scenario\n",
    "name_scenario = \"ARG_Carcarana-1_1_T-1\"\n",
    "\n",
    "# ==== build configuration\n",
    "config = ConfigurationBuilder.build_configuration(name_scenario)\n",
    "util_logger.initialize_logger(config)\n",
    "config.print_configuration_summary()"
   ]
  },
  {
   "cell_type": "markdown",
   "metadata": {},
   "source": [
    "## Executing Computation & Visualization"
   ]
  },
  {
   "cell_type": "markdown",
   "metadata": {},
   "source": [
    "Invoking reachable set computation is done via the `ReachableSetInterface` class."
   ]
  },
  {
   "cell_type": "code",
   "execution_count": 6,
   "metadata": {},
   "outputs": [
    {
     "name": "stdout",
     "output_type": "stream",
     "text": [
      "* Computing reachable sets...\n",
      "\tComputation took: \t0.053s\n"
     ]
    },
    {
     "data": {
      "text/plain": [
       "0.05324602127075195"
      ]
     },
     "execution_count": 6,
     "metadata": {},
     "output_type": "execute_result"
    }
   ],
   "source": [
    "# ==== compute reachable sets using reachability interface\n",
    "reach_interface = ReachableSetInterface(config)\n",
    "reach_interface.compute_reachable_sets()"
   ]
  },
  {
   "cell_type": "code",
   "execution_count": 7,
   "metadata": {},
   "outputs": [
    {
     "name": "stdout",
     "output_type": "stream",
     "text": [
      "* Plotting reachable sets...\n",
      "\tSaving ../output/ARG_Carcarana-1_1_T-1/reachset_00000.png\n",
      "\tSaving ../output/ARG_Carcarana-1_1_T-1/reachset_00001.png\n",
      "\tSaving ../output/ARG_Carcarana-1_1_T-1/reachset_00002.png\n",
      "\tSaving ../output/ARG_Carcarana-1_1_T-1/reachset_00003.png\n",
      "\tSaving ../output/ARG_Carcarana-1_1_T-1/reachset_00004.png\n",
      "\tSaving ../output/ARG_Carcarana-1_1_T-1/reachset_00005.png\n",
      "\tSaving ../output/ARG_Carcarana-1_1_T-1/reachset_00006.png\n",
      "\tSaving ../output/ARG_Carcarana-1_1_T-1/reachset_00007.png\n",
      "\tSaving ../output/ARG_Carcarana-1_1_T-1/reachset_00008.png\n",
      "\tSaving ../output/ARG_Carcarana-1_1_T-1/reachset_00009.png\n",
      "\tSaving ../output/ARG_Carcarana-1_1_T-1/reachset_00010.png\n",
      "\tSaving ../output/ARG_Carcarana-1_1_T-1/reachset_00011.png\n",
      "\tSaving ../output/ARG_Carcarana-1_1_T-1/reachset_00012.png\n",
      "\tSaving ../output/ARG_Carcarana-1_1_T-1/reachset_00013.png\n",
      "\tSaving ../output/ARG_Carcarana-1_1_T-1/reachset_00014.png\n",
      "\tSaving ../output/ARG_Carcarana-1_1_T-1/reachset_00015.png\n",
      "\tSaving ../output/ARG_Carcarana-1_1_T-1/reachset_00016.png\n",
      "\tSaving ../output/ARG_Carcarana-1_1_T-1/reachset_00017.png\n",
      "\tSaving ../output/ARG_Carcarana-1_1_T-1/reachset_00018.png\n",
      "\tSaving ../output/ARG_Carcarana-1_1_T-1/reachset_00019.png\n",
      "\tSaving ../output/ARG_Carcarana-1_1_T-1/reachset_00020.png\n",
      "\tSaving ../output/ARG_Carcarana-1_1_T-1/reachset_00021.png\n",
      "\tSaving ../output/ARG_Carcarana-1_1_T-1/reachset_00022.png\n",
      "\tSaving ../output/ARG_Carcarana-1_1_T-1/reachset_00023.png\n",
      "\tSaving ../output/ARG_Carcarana-1_1_T-1/reachset_00024.png\n",
      "\tSaving ../output/ARG_Carcarana-1_1_T-1/reachset_00025.png\n",
      "\tSaving ../output/ARG_Carcarana-1_1_T-1/reachset_00026.png\n",
      "\tSaving ../output/ARG_Carcarana-1_1_T-1/reachset_00027.png\n",
      "\tSaving ../output/ARG_Carcarana-1_1_T-1/reachset_00028.png\n",
      "\tSaving ../output/ARG_Carcarana-1_1_T-1/reachset_00029.png\n",
      "\tSaving ../output/ARG_Carcarana-1_1_T-1/reachset_00030.png\n",
      "\tCreating GIF...\n",
      "\tReachable sets plotted.\n"
     ]
    }
   ],
   "source": [
    "util_visual.plot_scenario_with_reachable_sets(reach_interface, as_svg=False)"
   ]
  }
 ],
 "metadata": {
  "kernelspec": {
   "display_name": "Python 3",
   "language": "python",
   "name": "python3"
  },
  "language_info": {
   "codemirror_mode": {
    "name": "ipython",
    "version": 3
   },
   "file_extension": ".py",
   "mimetype": "text/x-python",
   "name": "python",
   "nbconvert_exporter": "python",
   "pygments_lexer": "ipython3",
   "version": "3.7.6"
  }
 },
 "nbformat": 4,
 "nbformat_minor": 1
}
